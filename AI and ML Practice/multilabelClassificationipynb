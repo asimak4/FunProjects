{
 "cells": [
  {
   "cell_type": "code",
   "execution_count": 126,
   "metadata": {},
   "outputs": [],
   "source": [
    "## I used a series of sources to compile and build this homework 5 (Listed below)\n",
    "## https://scikit-learn.org/stable/modules/generated/sklearn.ensemble.RandomForestClassifier --> basis understanding of parameters and RFC\n",
    "## https://scikit-learn.org/stable/auto_examples/ensemble/plot_forest_importances.html --> getting importances to show\n",
    "## https://github.com/jieyima/US_Census_Income_Classification/blob/master/Income_classification.ipynb -> read and learned more about the process helping me understand data more\n",
    "## https://towardsdatascience.com/logistic-regression-classifier-on-census-income-data-e1dbef0b5738  -> help with CategoricalEncoder, Imputer and ColumnsSelector, and the pipeline information \n",
    "## https://towardsdatascience.com/improving-random-forest-in-python-part-1-893916666cd -> looking at the visual representation of the important features "
   ]
  },
  {
   "cell_type": "code",
   "execution_count": 127,
   "metadata": {},
   "outputs": [],
   "source": [
    "import pandas as pd\n",
    "import numpy as np\n",
    "import math\n",
    "from sklearn.pipeline import Pipeline\n",
    "from sklearn.model_selection import GridSearchCV\n",
    "from sklearn.pipeline import FeatureUnion\n",
    "from sklearn.base import BaseEstimator, TransformerMixin"
   ]
  },
  {
   "cell_type": "code",
   "execution_count": 128,
   "metadata": {},
   "outputs": [],
   "source": [
    "#columns = [\"age\", \"workClass\", \"fnlwgt\", \"education\", \"education-num\",\"marital-status\", \"occupation\", \"relationship\",\n",
    "          #\"race\", \"sex\", \"capital-gain\", \"capital-loss\", \"hours-per-week\", \"native-country\", \"income\"]\n",
    "    \n",
    "columns = [\"age\", \"workClass\", \"fnlwgt\", \"education\", \"education-num\", \"marital-status\", \"occupation\", \"relationship\",\n",
    "          \"race\", \"sex\", \"capital-gain\", \"capital-loss\", \"hours-per-week\", \"native-country\", \"income\"]\n",
    "\n",
    "trainRows = pd.read_csv('adult.data', names = columns, sep =' *, *',engine='python')\n",
    "testRows  = pd.read_csv('adult.test', names = columns, sep =' *, *', skiprows=1,engine='python')\n"
   ]
  },
  {
   "cell_type": "code",
   "execution_count": 129,
   "metadata": {},
   "outputs": [],
   "source": [
    "class ColumnsSelector(BaseEstimator, TransformerMixin):\n",
    "  \n",
    "  def __init__(self, type):\n",
    "    self.type = type\n",
    "  \n",
    "  def fit(self, X, y=None):\n",
    "    return self\n",
    "  \n",
    "  def transform(self,X):\n",
    "    return X.select_dtypes(include=[self.type])"
   ]
  },
  {
   "cell_type": "code",
   "execution_count": 130,
   "metadata": {},
   "outputs": [],
   "source": [
    "from sklearn.preprocessing import StandardScaler\n",
    "pipAttr = Pipeline(steps=[\n",
    "    (\"colSelect\", ColumnsSelector(type='int')),\n",
    "    (\"StdScale\", StandardScaler())\n",
    "])"
   ]
  },
  {
   "cell_type": "code",
   "execution_count": 131,
   "metadata": {},
   "outputs": [],
   "source": [
    "class CategoricalImputer(BaseEstimator, TransformerMixin):\n",
    "  \n",
    "  def __init__(self, columns = None, strategy='most_frequent'):\n",
    "    self.columns = columns\n",
    "    self.strategy = strategy\n",
    "    \n",
    "    \n",
    "  def fit(self,X, y=None):\n",
    "    if self.columns is None:\n",
    "      self.columns = X.columns\n",
    "    \n",
    "    if self.strategy is 'most_frequent':\n",
    "      self.fill = {column: X[column].value_counts().index[0] for \n",
    "        column in self.columns}\n",
    "    else:\n",
    "      self.fill ={column: '0' for column in self.columns}\n",
    "      \n",
    "    return self\n",
    "      \n",
    "  def transform(self,X):\n",
    "    X_copy = X.copy()\n",
    "    for column in self.columns:\n",
    "      X_copy[column] = X_copy[column].fillna(self.fill[column])\n",
    "    return X_copy"
   ]
  },
  {
   "cell_type": "code",
   "execution_count": 132,
   "metadata": {},
   "outputs": [],
   "source": [
    "class CategoricalEncoder(BaseEstimator, TransformerMixin):\n",
    "  \n",
    "  def __init__(self, dropFirst=True):\n",
    "    self.categories=dict()\n",
    "    self.dropFirst=dropFirst\n",
    "    \n",
    "  def fit(self, X, y=None):\n",
    "    join_df = pd.concat([trainRows, testRows])\n",
    "    join_df = join_df.select_dtypes(include=['object'])\n",
    "    for column in join_df.columns:\n",
    "      self.categories[column] = join_df[column].value_counts().index.tolist()\n",
    "    return self\n",
    "    \n",
    "  def transform(self, X):\n",
    "    X_copy = X.copy()\n",
    "    X_copy = X_copy.select_dtypes(include=['object'])\n",
    "    for column in X_copy.columns:\n",
    "      X_copy[column] = X_copy[column].astype({column:CategoricalDtype(self.categories[column])})\n",
    "    return pd.get_dummies(X_copy, drop_first=self.dropFirst)"
   ]
  },
  {
   "cell_type": "code",
   "execution_count": 133,
   "metadata": {},
   "outputs": [],
   "source": [
    "pipeCategory = Pipeline(steps=[\n",
    "    (\"colSelect\", ColumnsSelector(type='object')),\n",
    "    (\"catImpute\", CategoricalImputer(columns=\n",
    "          ['occupation', 'native-country','workClass'])),\n",
    "    (\"catEncoder\", CategoricalEncoder(dropFirst=True))\n",
    "])"
   ]
  },
  {
   "cell_type": "code",
   "execution_count": 134,
   "metadata": {},
   "outputs": [],
   "source": [
    "full_pipeline = FeatureUnion([(\"pipAttr\", pipAttr), \n",
    "                (\"pipeCategory\", pipeCategory)])"
   ]
  },
  {
   "cell_type": "code",
   "execution_count": 135,
   "metadata": {},
   "outputs": [],
   "source": [
    "train_copy = trainRows.copy()\n",
    "train_copy[\"income\"] = train_copy[\"income\"].apply(lambda x:0 if \n",
    "                        x=='<=50K' else 1)\n",
    "X_train = train_copy.drop('income', axis =1)\n",
    "\n",
    "\n",
    "Y_train = train_copy['income']"
   ]
  },
  {
   "cell_type": "code",
   "execution_count": 136,
   "metadata": {},
   "outputs": [],
   "source": [
    "from pandas.api.types import CategoricalDtype\n",
    "X_train_processed=full_pipeline.fit_transform(X_train)"
   ]
  },
  {
   "cell_type": "markdown",
   "metadata": {},
   "source": [
    "## Training a Model"
   ]
  },
  {
   "cell_type": "code",
   "execution_count": 137,
   "metadata": {
    "scrolled": true
   },
   "outputs": [],
   "source": [
    "from sklearn.ensemble import RandomForestClassifier\n",
    "import matplotlib.pyplot as plt\n",
    "#from sklearn.datasets import make_classification\n",
    "#from sklearn.ensemble import ExtraTreesClassifier\n",
    "\n",
    "rf = RandomForestClassifier(n_estimators = 500, max_depth = 90, min_samples_split = 3, min_samples_leaf= 2)\n",
    "# Fit\n",
    "rfClassification = rf.fit(X_train_processed, Y_train)\n"
   ]
  },
  {
   "cell_type": "markdown",
   "metadata": {},
   "source": [
    "## Feature Importance Information"
   ]
  },
  {
   "cell_type": "code",
   "execution_count": 138,
   "metadata": {},
   "outputs": [
    {
     "data": {
      "text/plain": [
       "['education                                                    Importance: 0.1601',\n",
       " 'fnlwgt                                                       Importance: 0.1088',\n",
       " 'age                                                          Importance: 0.1084',\n",
       " 'marital-status                                               Importance: 0.0661',\n",
       " 'workClass                                                    Importance: 0.0543',\n",
       " 'education-num                                                Importance: 0.0463',\n",
       " 'occupation                                                   Importance: 0.0081',\n",
       " 'capital-gain                                                 Importance: 0.0066',\n",
       " 'income                                                       Importance: 0.0054',\n",
       " 'capital-loss                                                 Importance: 0.0048',\n",
       " 'relationship                                                 Importance: 0.0042',\n",
       " 'sex                                                          Importance: 0.003',\n",
       " 'race                                                         Importance: 0.0023',\n",
       " 'hours-per-week                                               Importance: 0.0',\n",
       " 'native-country                                               Importance: 0.0']"
      ]
     },
     "execution_count": 138,
     "metadata": {},
     "output_type": "execute_result"
    }
   ],
   "source": [
    "\n",
    "# Get numerical feature importances\n",
    "importances = list(rf_model.feature_importances_)\n",
    "# List of tuples with variable and importance\n",
    "feature_importances = [(feature, round(importance, 4)) for feature, importance in zip(columns, importances)]\n",
    "# Sort the feature importances by most important first\n",
    "feature_importances = sorted(feature_importances, key = lambda x: x[1], reverse = True)\n",
    "# Print out the feature and importances \n",
    "[('{:60} Importance: {}'.format(*pair)) for pair in feature_importances]\n"
   ]
  },
  {
   "cell_type": "code",
   "execution_count": 139,
   "metadata": {},
   "outputs": [
    {
     "data": {
      "image/png": "[encoded data removed]",
      "text/plain": [
       "<Figure size 432x288 with 1 Axes>"
      ]
     },
     "metadata": {
      "needs_background": "light"
     },
     "output_type": "display_data"
    }
   ],
   "source": [
    "# list of x locations for plotting\n",
    "x_values = list(range(len(importances)))\n",
    "# Make a bar chart\n",
    "plt.bar(x_values, importances, orientation = 'vertical', color = 'r', edgecolor = 'k', linewidth = .2)\n",
    "# Tick labels for x axis\n",
    "plt.xticks(x_values, columns, rotation='vertical')\n",
    "# Axis labels and title\n",
    "plt.ylabel('Importance'); plt.xlabel('Variable'); plt.title('Variable Importances');"
   ]
  },
  {
   "cell_type": "markdown",
   "metadata": {},
   "source": [
    "## Training Accuracy"
   ]
  },
  {
   "cell_type": "code",
   "execution_count": 140,
   "metadata": {},
   "outputs": [
    {
     "data": {
      "text/plain": [
       "0.9003716102085316"
      ]
     },
     "execution_count": 140,
     "metadata": {},
     "output_type": "execute_result"
    }
   ],
   "source": [
    "rfClassification.score(X_train_processed, Y_train)"
   ]
  },
  {
   "cell_type": "markdown",
   "metadata": {},
   "source": [
    "## Testing Accuracy"
   ]
  },
  {
   "cell_type": "code",
   "execution_count": 141,
   "metadata": {},
   "outputs": [],
   "source": [
    "copyTestData = testRows.copy()\n",
    "copyTestData[\"income\"] = copyTestData[\"income\"].apply(lambda x:0 if \n",
    "                      x=='<=50K.' else 1)\n",
    "testX = copyTestData.drop('income', axis =1)\n",
    "testY = copyTestData['income']"
   ]
  },
  {
   "cell_type": "code",
   "execution_count": 142,
   "metadata": {},
   "outputs": [],
   "source": [
    "afterFitX= full_pipeline.fit_transform(testX)\n",
    "predicted_classes = rfClassification.predict(afterFitX)"
   ]
  },
  {
   "cell_type": "code",
   "execution_count": 143,
   "metadata": {},
   "outputs": [
    {
     "data": {
      "text/plain": [
       "0.861924943185308"
      ]
     },
     "execution_count": 143,
     "metadata": {},
     "output_type": "execute_result"
    }
   ],
   "source": [
    "rfClassification.score(afterFitX, testY.values)"
   ]
  },
  {
   "cell_type": "code",
   "execution_count": null,
   "metadata": {},
   "outputs": [],
   "source": []
  }
 ],
 "metadata": {
  "kernelspec": {
   "display_name": "Python 3.7.4 64-bit ('base': conda)",
   "language": "python",
   "name": "python37464bitbasecondaab515d9eb28742ca96b49eeaefcac8c9"
  },
  "language_info": {
   "codemirror_mode": {
    "name": "ipython",
    "version": 3
   },
   "file_extension": ".py",
   "mimetype": "text/x-python",
   "name": "python",
   "nbconvert_exporter": "python",
   "pygments_lexer": "ipython3",
   "version": "3.7.4"
  }
 },
 "nbformat": 4,
 "nbformat_minor": 4
}
