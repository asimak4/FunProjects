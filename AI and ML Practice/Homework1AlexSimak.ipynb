{
 "cells": [
  {
   "cell_type": "code",
   "execution_count": 1,
   "metadata": {},
   "outputs": [
    {
     "name": "stdout",
     "output_type": "stream",
     "text": [
      "Hello World!\n"
     ]
    }
   ],
   "source": [
    "print(\"Hello World!\")"
   ]
  },
  {
   "cell_type": "code",
   "execution_count": 2,
   "metadata": {},
   "outputs": [
    {
     "data": {
      "text/plain": [
       "6"
      ]
     },
     "execution_count": 2,
     "metadata": {},
     "output_type": "execute_result"
    }
   ],
   "source": [
    "3+3 "
   ]
  },
  {
   "cell_type": "code",
   "execution_count": 3,
   "metadata": {},
   "outputs": [],
   "source": [
    "from sklearn import datasets\n",
    "\n",
    "digits = datasets.load_digits()\n",
    "num_instances = len(digits.images)"
   ]
  },
  {
   "cell_type": "code",
   "execution_count": 4,
   "metadata": {},
   "outputs": [
    {
     "data": {
      "image/png": "[encoded data removed]",
      "text/plain": [
       "<Figure size 144x144 with 1 Axes>"
      ]
     },
     "metadata": {
      "needs_background": "light"
     },
     "output_type": "display_data"
    }
   ],
   "source": [
    "import matplotlib.pyplot as plt\n",
    "plt.figure(1, figsize=(2, 2))\n",
    "plt.imshow(digits.images[16], cmap=plt.cm.gray_r, interpolation='nearest')\n",
    "plt.show()"
   ]
  },
  {
   "cell_type": "code",
   "execution_count": 5,
   "metadata": {},
   "outputs": [
    {
     "name": "stdout",
     "output_type": "stream",
     "text": [
      "[[ 0.  0.  0.  8. 15.  1.  0.  0.]\n",
      " [ 0.  0.  0. 12. 14.  0.  0.  0.]\n",
      " [ 0.  0.  3. 16.  7.  0.  0.  0.]\n",
      " [ 0.  0.  6. 16.  2.  0.  0.  0.]\n",
      " [ 0.  0.  7. 16. 16. 13.  5.  0.]\n",
      " [ 0.  0. 15. 16.  9.  9. 14.  0.]\n",
      " [ 0.  0.  3. 14.  9.  2. 16.  2.]\n",
      " [ 0.  0.  0.  7. 15. 16. 11.  0.]]\n"
     ]
    }
   ],
   "source": [
    "print(digits.images[16])\n"
   ]
  },
  {
   "cell_type": "code",
   "execution_count": 6,
   "metadata": {},
   "outputs": [],
   "source": [
    "digits_flat = digits.images.reshape((num_instances, -1))"
   ]
  },
  {
   "cell_type": "code",
   "execution_count": 7,
   "metadata": {},
   "outputs": [],
   "source": [
    "split_point = 110\n",
    "digits_flat_train, digits_flat_test = digits_flat[:-split_point], digits_flat[-split_point:]\n",
    "digits_lbls_train, digits_lbls_test = digits.target[:-split_point], digits.target[-split_point:]"
   ]
  },
  {
   "cell_type": "code",
   "execution_count": 8,
   "metadata": {},
   "outputs": [],
   "source": [
    "from sklearn import tree"
   ]
  },
  {
   "cell_type": "code",
   "execution_count": 9,
   "metadata": {},
   "outputs": [],
   "source": [
    "clf_dt = tree.DecisionTreeClassifier()"
   ]
  },
  {
   "cell_type": "code",
   "execution_count": 10,
   "metadata": {},
   "outputs": [],
   "source": [
    "clf_dt = clf_dt.fit(digits_flat_train, digits_lbls_train)"
   ]
  },
  {
   "cell_type": "code",
   "execution_count": 11,
   "metadata": {},
   "outputs": [
    {
     "name": "stdout",
     "output_type": "stream",
     "text": [
      "Accuracy: 0.8363636363636363\n"
     ]
    }
   ],
   "source": [
    "print('Accuracy:', clf_dt.score(digits_flat_test, digits_lbls_test))"
   ]
  },
  {
   "cell_type": "code",
   "execution_count": 12,
   "metadata": {},
   "outputs": [
    {
     "data": {
      "text/plain": [
       "array([[11,  0,  0,  0,  0,  0,  0,  0,  0,  0],\n",
       "       [ 0,  9,  0,  0,  1,  0,  0,  0,  1,  0],\n",
       "       [ 0,  0,  8,  1,  0,  1,  0,  1,  0,  0],\n",
       "       [ 0,  0,  2,  3,  1,  1,  0,  0,  3,  1],\n",
       "       [ 0,  0,  0,  0, 11,  0,  0,  0,  0,  0],\n",
       "       [ 0,  0,  0,  0,  1,  7,  1,  0,  0,  2],\n",
       "       [ 0,  0,  0,  0,  0,  0, 11,  0,  0,  0],\n",
       "       [ 0,  0,  0,  0,  0,  0,  0, 11,  0,  0],\n",
       "       [ 0,  1,  0,  0,  0,  0,  0,  0, 10,  0],\n",
       "       [ 0,  0,  0,  0,  0,  0,  0,  0,  0, 11]])"
      ]
     },
     "execution_count": 12,
     "metadata": {},
     "output_type": "execute_result"
    }
   ],
   "source": [
    "import sklearn\n",
    "predictions = clf_dt.predict(digits_flat_test)\n",
    "sklearn.metrics.confusion_matrix(digits_lbls_test, predictions)"
   ]
  },
  {
   "cell_type": "code",
   "execution_count": 13,
   "metadata": {},
   "outputs": [
    {
     "data": {
      "text/plain": [
       "<Figure size 432x288 with 0 Axes>"
      ]
     },
     "metadata": {},
     "output_type": "display_data"
    },
    {
     "data": {
      "image/png": "[encoded data removed]",
      "text/plain": [
       "<Figure size 504x360 with 10 Axes>"
      ]
     },
     "metadata": {},
     "output_type": "display_data"
    }
   ],
   "source": [
    "plt.clf()\n",
    "f = plt.figure(figsize=(7, 5))\n",
    "count = 0\n",
    "for idx, (actual, prediction) in list(enumerate(zip(digits_lbls_test, predictions))):\n",
    "    if actual == prediction:\n",
    "        continue\n",
    "    \n",
    "    count += 1\n",
    "    \n",
    "    if count > 10:\n",
    "        break\n",
    "    \n",
    "    ridx = idx + (num_instances - split_point)\n",
    "    image = digits.images[ridx]\n",
    "    sub = f.add_subplot(2, 5, count)\n",
    "    sub.imshow(image, cmap=plt.cm.gray_r)\n",
    "    plt.xticks([])\n",
    "    plt.yticks([])\n",
    "    \n",
    "    sub.set_title('predict: %i\\ntrue: %i' % (\n",
    "        prediction, actual))\n",
    "\n",
    "plt.show()"
   ]
  }
 ],
 "metadata": {
  "kernelspec": {
   "display_name": "Python 3",
   "language": "python",
   "name": "python3"
  },
  "language_info": {
   "codemirror_mode": {
    "name": "ipython",
    "version": 3
   },
   "file_extension": ".py",
   "mimetype": "text/x-python",
   "name": "python",
   "nbconvert_exporter": "python",
   "pygments_lexer": "ipython3",
   "version": "3.7.6"
  }
 },
 "nbformat": 4,
 "nbformat_minor": 2
}
